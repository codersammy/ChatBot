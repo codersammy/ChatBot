{
  "nbformat": 4,
  "nbformat_minor": 0,
  "metadata": {
    "colab": {
      "provenance": []
    },
    "kernelspec": {
      "name": "python3",
      "display_name": "Python 3"
    },
    "language_info": {
      "name": "python"
    }
  },
  "cells": [
    {
      "cell_type": "markdown",
      "source": [
        "**Importing neccesary libraries**"
      ],
      "metadata": {
        "id": "lbbp0HiS1x1P"
      }
    },
    {
      "cell_type": "code",
      "execution_count": 1,
      "metadata": {
        "id": "WCrmkET50bTm"
      },
      "outputs": [],
      "source": [
        "import numpy as np\n",
        "import nltk\n",
        "import string\n",
        "import random"
      ]
    },
    {
      "cell_type": "markdown",
      "source": [
        "**Loading the corpus and performing pre-processing on it (tokenization,lower casing,etc\\)**"
      ],
      "metadata": {
        "id": "YEKvkhHc3Cet"
      }
    },
    {
      "cell_type": "code",
      "source": [
        "f = open('chatbot.txt','r',errors = 'ignore')\n",
        "#reading document of corpus in raw format\n",
        "doc_raw = f.read()\n",
        "#converting every alphabet to lowercase\n",
        "doc_raw = doc_raw.lower()\n",
        "# Dowloading the pre-trained tokenizer\n",
        "nltk.download('punkt')\n",
        "#Using the wordnet dictionary\n",
        "nltk.download('wordnet')\n",
        "#splitting document into sentences\n",
        "sent_tok = nltk.sent_tokenize(doc_raw)\n",
        "#splitting document into words\n",
        "words_tok = nltk.word_tokenize(doc_raw) \n"
      ],
      "metadata": {
        "colab": {
          "base_uri": "https://localhost:8080/"
        },
        "id": "FQh3n2sU3J8A",
        "outputId": "b93bbf4a-6fe2-4df7-db4a-be81c14d6f2e"
      },
      "execution_count": 2,
      "outputs": [
        {
          "output_type": "stream",
          "name": "stderr",
          "text": [
            "[nltk_data] Downloading package punkt to /root/nltk_data...\n",
            "[nltk_data]   Unzipping tokenizers/punkt.zip.\n",
            "[nltk_data] Downloading package wordnet to /root/nltk_data...\n"
          ]
        }
      ]
    },
    {
      "cell_type": "code",
      "source": [
        "sent_tok[:2]"
      ],
      "metadata": {
        "colab": {
          "base_uri": "https://localhost:8080/"
        },
        "id": "higSmbbB4tWy",
        "outputId": "6859d015-4e58-4d81-a5c5-16859fcd4adf"
      },
      "execution_count": 3,
      "outputs": [
        {
          "output_type": "execute_result",
          "data": {
            "text/plain": [
              "['data science is an interdisciplinary academic field [1] that uses statistics, scientific computing, scientific methods, processes, algorithms and systems to extract or extrapolate knowledge and insights from noisy, structured, and unstructured data.',\n",
              " '[2]\\n\\ndata science also integrates domain knowledge from the underlying application domain (e.g., natural sciences, information technology, and medicine).']"
            ]
          },
          "metadata": {},
          "execution_count": 3
        }
      ]
    },
    {
      "cell_type": "code",
      "source": [
        "words_tok[:2]"
      ],
      "metadata": {
        "colab": {
          "base_uri": "https://localhost:8080/"
        },
        "id": "euHVXksc5OVw",
        "outputId": "1350564f-4cc3-41af-dfc6-478ade4c78cd"
      },
      "execution_count": 4,
      "outputs": [
        {
          "output_type": "execute_result",
          "data": {
            "text/plain": [
              "['data', 'science']"
            ]
          },
          "metadata": {},
          "execution_count": 4
        }
      ]
    },
    {
      "cell_type": "markdown",
      "source": [
        "**Performing data pre-processing techniques (e.g.removing punctuations,lemmetization,etc)**"
      ],
      "metadata": {
        "id": "jPNSFi4F5r7b"
      }
    },
    {
      "cell_type": "code",
      "source": [
        "lemmer = nltk.stem.WordNetLemmatizer()\n",
        "def lem_tokens(tokens):\n",
        "  return [lemmer.lemmatize(token) for token in tokens]\n",
        "rem_punct_dict = dict((ord(punct),None) for punct in string.punctuation)\n",
        "def LemNorm(text):\n",
        "  return lem_tokens(nltk.word_tokenize(text.lower().translate(rem_punct_dict)))\n"
      ],
      "metadata": {
        "id": "XBj5-hC_53UT"
      },
      "execution_count": 5,
      "outputs": []
    },
    {
      "cell_type": "markdown",
      "source": [
        "**Creating a basic greeting function**"
      ],
      "metadata": {
        "id": "jwLP1Z3cEWEi"
      }
    },
    {
      "cell_type": "code",
      "source": [
        "Greet_inputs = ('hello','hi',\"what's up?\",\"sup\",\"hey\",\"greetings\")\n",
        "Greet_response = (\"hi\",\"hey\",\"nods\",\"hi there\",\"hello\",\"Glad to know you are talking to me!\")\n",
        "def greet(sentence):\n",
        "  for word in sentence.split():\n",
        "    if word.lower() in Greet_inputs:\n",
        "      return random.choice(Greet_response)\n",
        "  "
      ],
      "metadata": {
        "id": "xfgq_7EpD-_N"
      },
      "execution_count": 6,
      "outputs": []
    },
    {
      "cell_type": "markdown",
      "source": [
        "**Generating Response to Input Texts**"
      ],
      "metadata": {
        "id": "nZt6glKCF4PK"
      }
    },
    {
      "cell_type": "code",
      "source": [
        "from sklearn.feature_extraction.text import TfidfVectorizer\n",
        "from sklearn.metrics.pairwise import cosine_similarity"
      ],
      "metadata": {
        "id": "74RaPdjwFbH6"
      },
      "execution_count": 7,
      "outputs": []
    },
    {
      "cell_type": "code",
      "source": [
        "def response(user_response):\n",
        "  robot_res = ''\n",
        "  TfidfVector = TfidfVectorizer(tokenizer = LemNorm, stop_words='english')\n",
        "  tfidf = TfidfVector.fit_transform(sent_tok)\n",
        "  vals = cosine_similarity(tfidf[-1],tfidf)\n",
        "  idx = vals.argsort()[0][-2]\n",
        "  flat = vals.flatten()\n",
        "  flat.sort()\n",
        "  req_tfidf = flat[-2]\n",
        "  if(req_tfidf==0):\n",
        "    robot_res = robot_res+'I am sorry! I do not understand you'\n",
        "    return robot_res\n",
        "  else:\n",
        "    robot_res = robot_res+sent_tok[idx]\n",
        "    return robot_res\n"
      ],
      "metadata": {
        "id": "oKl90xZgIAIG"
      },
      "execution_count": 8,
      "outputs": []
    },
    {
      "cell_type": "markdown",
      "source": [
        "**Defining conversation start and end protocols**"
      ],
      "metadata": {
        "id": "VAZBPWfvJ2Y9"
      }
    },
    {
      "cell_type": "code",
      "source": [
        "flag = True\n",
        "print(\"BOT: Hi! my name is Alexa. Let's start a conversation!Also if you want to exit at any time,just type bye.\")\n",
        "while (flag == True):\n",
        "  user_response = input()\n",
        "  user_response = user_response.lower()\n",
        "  if (user_response != 'bye'):\n",
        "    if (user_response == 'thanks'or user_response =='thank you'):\n",
        "      flag = False\n",
        "      print('BOT: You are welcome!..')\n",
        "    else:\n",
        "      if(greet(user_response)!=None):\n",
        "        print('BOT:'+greet(user_response))\n",
        "      else:\n",
        "        sent_tok.append(user_response)  \n",
        "        words_tok = words_tok +nltk.word_tokenize(user_response)\n",
        "        final_words =list(set(words_tok))\n",
        "        print('BOT:',end=\"\")\n",
        "        print(response(user_response))\n",
        "        sent_tok.remove(user_response)\n",
        "  else:\n",
        "    flag = False\n",
        "    print(\"BOT: Goodbye take care <3\")      \n"
      ],
      "metadata": {
        "colab": {
          "base_uri": "https://localhost:8080/"
        },
        "id": "SxHYPE4UJ_iw",
        "outputId": "c868366d-82c1-41cf-dd68-4a3bb37e0fa7"
      },
      "execution_count": 9,
      "outputs": [
        {
          "output_type": "stream",
          "name": "stdout",
          "text": [
            "BOT: Hi! my name is Alexa. Let's start a conversation!Also if you want to exit at any time,just type bye.\n",
            "Hello\n",
            "BOT:nods\n",
            "Foundations\n",
            "BOT:"
          ]
        },
        {
          "output_type": "stream",
          "name": "stderr",
          "text": [
            "/usr/local/lib/python3.9/dist-packages/sklearn/feature_extraction/text.py:528: UserWarning: The parameter 'token_pattern' will not be used since 'tokenizer' is not None'\n",
            "  warnings.warn(\n",
            "/usr/local/lib/python3.9/dist-packages/sklearn/feature_extraction/text.py:409: UserWarning: Your stop_words may be inconsistent with your preprocessing. Tokenizing the stop words generated tokens ['ha', 'le', 'u', 'wa'] not in stop_words.\n",
            "  warnings.warn(\n"
          ]
        },
        {
          "output_type": "stream",
          "name": "stdout",
          "text": [
            "[9]\n",
            "\n",
            "foundations\n",
            "data science is an interdisciplinary field[10] focused on extracting knowledge from typically large data sets and applying the knowledge and insights from that data to solve problems in a wide range of application domains.\n",
            "Thank you\n",
            "BOT: You are welcome!..\n"
          ]
        }
      ]
    },
    {
      "cell_type": "code",
      "source": [],
      "metadata": {
        "id": "-F9q8PrqJ1Yt"
      },
      "execution_count": 9,
      "outputs": []
    }
  ]
}